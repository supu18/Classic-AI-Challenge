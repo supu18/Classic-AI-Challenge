{
 "cells": [
  {
   "cell_type": "markdown",
   "id": "b33cc9a1",
   "metadata": {},
   "source": [
    "# Data Exploration"
   ]
  },
  {
   "cell_type": "code",
   "execution_count": 2,
   "id": "ba42f808",
   "metadata": {},
   "outputs": [],
   "source": [
    "# import packages\n",
    "import pandas as pd\n",
    "import numpy as np"
   ]
  },
  {
   "cell_type": "code",
   "execution_count": 6,
   "id": "78e6d6ea",
   "metadata": {},
   "outputs": [
    {
     "name": "stdout",
     "output_type": "stream",
     "text": [
      "Dataset shape: (2345, 9)\n",
      "\n",
      "Column names:\n",
      "['MONATSZAHL', 'AUSPRAEGUNG', 'JAHR', 'MONAT', 'WERT', 'VORJAHRESWERT', 'VERAEND_VORMONAT_PROZENT', 'VERAEND_VORJAHRESMONAT_PROZENT', 'ZWOELF_MONATE_MITTELWERT']\n",
      "\n",
      "First few rows:\n"
     ]
    },
    {
     "data": {
      "application/vnd.microsoft.datawrangler.viewer.v0+json": {
       "columns": [
        {
         "name": "index",
         "rawType": "int64",
         "type": "integer"
        },
        {
         "name": "MONATSZAHL",
         "rawType": "object",
         "type": "string"
        },
        {
         "name": "AUSPRAEGUNG",
         "rawType": "object",
         "type": "string"
        },
        {
         "name": "JAHR",
         "rawType": "int64",
         "type": "integer"
        },
        {
         "name": "MONAT",
         "rawType": "object",
         "type": "string"
        },
        {
         "name": "WERT",
         "rawType": "float64",
         "type": "float"
        },
        {
         "name": "VORJAHRESWERT",
         "rawType": "float64",
         "type": "float"
        },
        {
         "name": "VERAEND_VORMONAT_PROZENT",
         "rawType": "float64",
         "type": "float"
        },
        {
         "name": "VERAEND_VORJAHRESMONAT_PROZENT",
         "rawType": "float64",
         "type": "float"
        },
        {
         "name": "ZWOELF_MONATE_MITTELWERT",
         "rawType": "float64",
         "type": "float"
        }
       ],
       "ref": "39e8e009-8766-4f1a-ad19-69391de0a1c7",
       "rows": [
        [
         "0",
         "Alkoholunfälle",
         "insgesamt",
         "2025",
         "202501",
         null,
         null,
         null,
         null,
         null
        ],
        [
         "1",
         "Alkoholunfälle",
         "insgesamt",
         "2025",
         "202502",
         null,
         null,
         null,
         null,
         null
        ],
        [
         "2",
         "Alkoholunfälle",
         "insgesamt",
         "2025",
         "202503",
         null,
         null,
         null,
         null,
         null
        ],
        [
         "3",
         "Alkoholunfälle",
         "insgesamt",
         "2025",
         "202504",
         null,
         null,
         null,
         null,
         null
        ],
        [
         "4",
         "Alkoholunfälle",
         "insgesamt",
         "2025",
         "202505",
         null,
         null,
         null,
         null,
         null
        ]
       ],
       "shape": {
        "columns": 9,
        "rows": 5
       }
      },
      "text/html": [
       "<div>\n",
       "<style scoped>\n",
       "    .dataframe tbody tr th:only-of-type {\n",
       "        vertical-align: middle;\n",
       "    }\n",
       "\n",
       "    .dataframe tbody tr th {\n",
       "        vertical-align: top;\n",
       "    }\n",
       "\n",
       "    .dataframe thead th {\n",
       "        text-align: right;\n",
       "    }\n",
       "</style>\n",
       "<table border=\"1\" class=\"dataframe\">\n",
       "  <thead>\n",
       "    <tr style=\"text-align: right;\">\n",
       "      <th></th>\n",
       "      <th>MONATSZAHL</th>\n",
       "      <th>AUSPRAEGUNG</th>\n",
       "      <th>JAHR</th>\n",
       "      <th>MONAT</th>\n",
       "      <th>WERT</th>\n",
       "      <th>VORJAHRESWERT</th>\n",
       "      <th>VERAEND_VORMONAT_PROZENT</th>\n",
       "      <th>VERAEND_VORJAHRESMONAT_PROZENT</th>\n",
       "      <th>ZWOELF_MONATE_MITTELWERT</th>\n",
       "    </tr>\n",
       "  </thead>\n",
       "  <tbody>\n",
       "    <tr>\n",
       "      <th>0</th>\n",
       "      <td>Alkoholunfälle</td>\n",
       "      <td>insgesamt</td>\n",
       "      <td>2025</td>\n",
       "      <td>202501</td>\n",
       "      <td>NaN</td>\n",
       "      <td>NaN</td>\n",
       "      <td>NaN</td>\n",
       "      <td>NaN</td>\n",
       "      <td>NaN</td>\n",
       "    </tr>\n",
       "    <tr>\n",
       "      <th>1</th>\n",
       "      <td>Alkoholunfälle</td>\n",
       "      <td>insgesamt</td>\n",
       "      <td>2025</td>\n",
       "      <td>202502</td>\n",
       "      <td>NaN</td>\n",
       "      <td>NaN</td>\n",
       "      <td>NaN</td>\n",
       "      <td>NaN</td>\n",
       "      <td>NaN</td>\n",
       "    </tr>\n",
       "    <tr>\n",
       "      <th>2</th>\n",
       "      <td>Alkoholunfälle</td>\n",
       "      <td>insgesamt</td>\n",
       "      <td>2025</td>\n",
       "      <td>202503</td>\n",
       "      <td>NaN</td>\n",
       "      <td>NaN</td>\n",
       "      <td>NaN</td>\n",
       "      <td>NaN</td>\n",
       "      <td>NaN</td>\n",
       "    </tr>\n",
       "    <tr>\n",
       "      <th>3</th>\n",
       "      <td>Alkoholunfälle</td>\n",
       "      <td>insgesamt</td>\n",
       "      <td>2025</td>\n",
       "      <td>202504</td>\n",
       "      <td>NaN</td>\n",
       "      <td>NaN</td>\n",
       "      <td>NaN</td>\n",
       "      <td>NaN</td>\n",
       "      <td>NaN</td>\n",
       "    </tr>\n",
       "    <tr>\n",
       "      <th>4</th>\n",
       "      <td>Alkoholunfälle</td>\n",
       "      <td>insgesamt</td>\n",
       "      <td>2025</td>\n",
       "      <td>202505</td>\n",
       "      <td>NaN</td>\n",
       "      <td>NaN</td>\n",
       "      <td>NaN</td>\n",
       "      <td>NaN</td>\n",
       "      <td>NaN</td>\n",
       "    </tr>\n",
       "  </tbody>\n",
       "</table>\n",
       "</div>"
      ],
      "text/plain": [
       "       MONATSZAHL AUSPRAEGUNG  JAHR   MONAT  WERT  VORJAHRESWERT  \\\n",
       "0  Alkoholunfälle   insgesamt  2025  202501   NaN            NaN   \n",
       "1  Alkoholunfälle   insgesamt  2025  202502   NaN            NaN   \n",
       "2  Alkoholunfälle   insgesamt  2025  202503   NaN            NaN   \n",
       "3  Alkoholunfälle   insgesamt  2025  202504   NaN            NaN   \n",
       "4  Alkoholunfälle   insgesamt  2025  202505   NaN            NaN   \n",
       "\n",
       "   VERAEND_VORMONAT_PROZENT  VERAEND_VORJAHRESMONAT_PROZENT  \\\n",
       "0                       NaN                             NaN   \n",
       "1                       NaN                             NaN   \n",
       "2                       NaN                             NaN   \n",
       "3                       NaN                             NaN   \n",
       "4                       NaN                             NaN   \n",
       "\n",
       "   ZWOELF_MONATE_MITTELWERT  \n",
       "0                       NaN  \n",
       "1                       NaN  \n",
       "2                       NaN  \n",
       "3                       NaN  \n",
       "4                       NaN  "
      ]
     },
     "execution_count": 6,
     "metadata": {},
     "output_type": "execute_result"
    }
   ],
   "source": [
    "df = pd.read_csv('../data/raw/monatszahlen2505_verkehrsunfaelle_06_06_25.csv')\n",
    "print(\"Dataset shape:\", df.shape)\n",
    "print(\"\\nColumn names:\")\n",
    "print(df.columns.tolist())\n",
    "print(\"\\nFirst few rows:\")\n",
    "df.head()\n"
   ]
  },
  {
   "cell_type": "code",
   "execution_count": 7,
   "id": "81ef64b6",
   "metadata": {},
   "outputs": [
    {
     "name": "stdout",
     "output_type": "stream",
     "text": [
      "Year distribution:\n",
      "2000    84\n",
      "2001    91\n",
      "2002    91\n",
      "2003    91\n",
      "2004    91\n",
      "2005    91\n",
      "2006    91\n",
      "2007    91\n",
      "2008    91\n",
      "2009    91\n",
      "2010    91\n",
      "2011    91\n",
      "2012    91\n",
      "2013    91\n",
      "2014    91\n",
      "2015    91\n",
      "2016    91\n",
      "2017    91\n",
      "2018    91\n",
      "2019    91\n",
      "2020    91\n",
      "2021    91\n",
      "2022    91\n",
      "2023    91\n",
      "2024    84\n",
      "2025    84\n",
      "Name: JAHR, dtype: int64\n",
      "\n",
      "Records <= 2020: 1904\n",
      "Records > 2020: 441\n"
     ]
    }
   ],
   "source": [
    "# Check year distribution\n",
    "year_counts = df['JAHR'].value_counts().sort_index()\n",
    "print(\"Year distribution:\")\n",
    "print(year_counts)\n",
    "\n",
    "# Verify records <= 2020\n",
    "data_2020 = df[df['JAHR'] <= 2020]\n",
    "print(f\"\\nRecords <= 2020: {len(data_2020)}\")\n",
    "print(f\"Records > 2020: {len(df[df['JAHR'] > 2020])}\")"
   ]
  },
  {
   "cell_type": "code",
   "execution_count": null,
   "id": "8bbf9a34",
   "metadata": {},
   "outputs": [
    {
     "name": "stdout",
     "output_type": "stream",
     "text": [
      "All accident categories:\n",
      "Verkehrsunfälle    1005\n",
      "Alkoholunfälle      670\n",
      "Fluchtunfälle       670\n",
      "Name: MONATSZAHL, dtype: int64\n",
      "\n",
      "Alcohol-related categories:\n",
      "['Alkoholunfälle']\n",
      "Alkoholunfälle: 670 records\n"
     ]
    }
   ],
   "source": [
    "# Unique categories in MONATSZAHL\n",
    "print(\"All accident categories:\")\n",
    "print(df['MONATSZAHL'].value_counts())\n",
    "\n",
    "# Check all alcohol - related categories\n",
    "alcohol_categories = df[df['MONATSZAHL'].str.contains('alkohol', case=False, na=False)]['MONATSZAHL'].unique()\n",
    "print(\"\\nAlcohol-related categories:\")\n",
    "print(alcohol_categories)\n",
    "\n",
    "# Count records for each alcohol category\n",
    "for records in alcohol_categories:\n",
    "    count = len(df[df['MONATSZAHL'] == records])\n",
    "    print(f\"{records}: {count} records\")"
   ]
  },
  {
   "cell_type": "code",
   "execution_count": null,
   "id": "3ea33d65",
   "metadata": {},
   "outputs": [
    {
     "name": "stdout",
     "output_type": "stream",
     "text": [
      "Records after year filter: 1904\n",
      "Records after alcohol filter: 544\n",
      "Records after 'insgesamt' filter: 272\n"
     ]
    }
   ],
   "source": [
    "# Filter by year below or equal to 2020 for further processing\n",
    "data_filtered = df[df['JAHR'] <= 2020]\n",
    "print(f\"Records after year filter: {len(data_filtered)}\")\n",
    "\n",
    "# First check if 'Alkoholunfälle' exists exactly\n",
    "if 'Alkoholunfälle' in data_filtered['MONATSZAHL'].unique():\n",
    "    alcohol_data = data_filtered[data_filtered['MONATSZAHL'] == 'Alkoholunfälle']\n",
    "else:\n",
    "    # Find all categories which contain 'alkohol'\n",
    "    similar = data_filtered[data_filtered['MONATSZAHL'].str.contains('alkohol', case=False, na=False)]\n",
    "    print(\"Similar categories found:\")\n",
    "    print(similar['MONATSZAHL'].unique())\n",
    "    alcohol_data = similar \n",
    "\n",
    "print(f\"Records after alcohol filter: {len(alcohol_data)}\")\n",
    "\n",
    "# Filter by 'insgesamt'\n",
    "if 'AUSPRAEGUNG' in alcohol_data.columns:\n",
    "    insgesamt = alcohol_data[alcohol_data['AUSPRAEGUNG'] == 'insgesamt']\n",
    "    print(f\"Records after 'insgesamt' filter: {len(insgesamt)}\")\n",
    "else:\n",
    "    print(\"No 'AUSPRAEGUNG' column found\")"
   ]
  }
 ],
 "metadata": {
  "kernelspec": {
   "display_name": "aichallenge",
   "language": "python",
   "name": "python3"
  },
  "language_info": {
   "codemirror_mode": {
    "name": "ipython",
    "version": 3
   },
   "file_extension": ".py",
   "mimetype": "text/x-python",
   "name": "python",
   "nbconvert_exporter": "python",
   "pygments_lexer": "ipython3",
   "version": "3.9.23"
  }
 },
 "nbformat": 4,
 "nbformat_minor": 5
}
